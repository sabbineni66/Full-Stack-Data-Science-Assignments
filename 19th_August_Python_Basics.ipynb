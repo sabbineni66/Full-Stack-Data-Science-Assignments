{
 "cells": [
  {
   "cell_type": "markdown",
   "id": "9b21863c-7355-4ba8-8685-71c243c18811",
   "metadata": {},
   "source": [
    "1.Declare two variables, `x` and `y`, and assign them integer values. Swap the\n",
    "values of these variables without using any temporary variable.\n"
   ]
  },
  {
   "cell_type": "code",
   "execution_count": 3,
   "id": "1088b7f0-a0ab-4dfe-91da-a3f9c5a9fc77",
   "metadata": {},
   "outputs": [
    {
     "name": "stdout",
     "output_type": "stream",
     "text": [
      "Before swap x :10and y :11\n",
      "After swap x:11 and y :10\n"
     ]
    }
   ],
   "source": [
    "# Assigning to two variables with values\n",
    "x=10\n",
    "y=11\n",
    "\n",
    "print(f\"Before swap x :{x}and y :{y}\")\n",
    "# Here varibales are both numbers, we can use arithemtic operattos to do the same\n",
    "x = x+y\n",
    "y=x-y\n",
    "x=x-y\n",
    "print(f\"After swap x:{x} and y :{y}\")"
   ]
  },
  {
   "cell_type": "markdown",
   "id": "4fec22e2-686d-436d-9ab9-e454789c349a",
   "metadata": {},
   "source": [
    "2. Create a program that calculates the area of a rectangle. Take the length and\n",
    "width as inputs from the user and store them in variables. Calculate and\n",
    "display the area."
   ]
  },
  {
   "cell_type": "code",
   "execution_count": 6,
   "id": "395d9597-773c-40e4-b3ce-4434606f39e4",
   "metadata": {},
   "outputs": [
    {
     "name": "stdin",
     "output_type": "stream",
     "text": [
      " Enter length of rectangle:  5\n",
      " Enter width of rectangle:  20\n"
     ]
    },
    {
     "name": "stdout",
     "output_type": "stream",
     "text": [
      "The area of rectangle is: 100.0\n"
     ]
    }
   ],
   "source": [
    "# take the input from the user \n",
    "length = int(input(\" Enter length of rectangle: \"))\n",
    "width= float(input(\" Enter width of rectangle: \"))\n",
    "\n",
    "#calculate area of rectangle\n",
    "area= length*width\n",
    "\n",
    "#Display the area of rectangle\n",
    "print(\"The area of rectangle is:\", area)"
   ]
  },
  {
   "cell_type": "markdown",
   "id": "ec4e8a3a-356b-4b17-b9f8-8c141dc00b93",
   "metadata": {},
   "source": [
    "3. Write a Python program that converts temperatures from Celsius to\n",
    "Fahrenheit. Take the temperature in Celsius as input, store it in a variable,\n",
    "convert it to Fahrenheit, and display the result."
   ]
  },
  {
   "cell_type": "code",
   "execution_count": 8,
   "id": "7e5328d4-d2ff-460c-8984-ad3954df30df",
   "metadata": {},
   "outputs": [
    {
     "name": "stdin",
     "output_type": "stream",
     "text": [
      "Enter temperature in celsius:  40\n"
     ]
    },
    {
     "name": "stdout",
     "output_type": "stream",
     "text": [
      "40.0 Celsius is equal to 104.0000 Fahreheit\n"
     ]
    }
   ],
   "source": [
    "# Take the temperature in celsius from the user\n",
    "celsius_temp = float(input(\"Enter temperature in celsius: \"))\n",
    "\n",
    "# here we converts temperature from celsius to Fahrenheit\n",
    "fahreheit = (celsius_temp*9/5)+32\n",
    "\n",
    "#Display the converted temprature in Fahreheit\n",
    "print(f\"{celsius_temp} Celsius is equal to {fahreheit:.4f} Fahreheit\")"
   ]
  },
  {
   "cell_type": "markdown",
   "id": "399dbb25-6906-442f-bffe-1cee4248b5b7",
   "metadata": {},
   "source": [
    "TOPIC: String Based Questions"
   ]
  },
  {
   "cell_type": "markdown",
   "id": "9df63223-0592-4b4f-8e45-b55fbc4aa04a",
   "metadata": {},
   "source": [
    "1. Write a Python program that takes a string as input and prints the length of\n",
    "the string."
   ]
  },
  {
   "cell_type": "code",
   "execution_count": 12,
   "id": "8629cfcf-dae0-46e3-b461-fef4179075dc",
   "metadata": {},
   "outputs": [
    {
     "name": "stdin",
     "output_type": "stream",
     "text": [
      "Enter the string:  pwskills\n"
     ]
    },
    {
     "name": "stdout",
     "output_type": "stream",
     "text": [
      "The lenth of input string is: 8\n"
     ]
    }
   ],
   "source": [
    "# Here get input from the user\n",
    "a=input(\"Enter the string: \")\n",
    "#calculate length of string using inbulit function\n",
    "print(f\"The lenth of input string is:\",len(a))"
   ]
  },
  {
   "cell_type": "markdown",
   "id": "3506ea59-127a-416a-860c-293483dce552",
   "metadata": {},
   "source": [
    "2. Create a program that takes a sentence from the user and counts the number\n",
    "of vowels (a, e, i, o, u) in the string."
   ]
  },
  {
   "cell_type": "code",
   "execution_count": 15,
   "id": "591f398c-303a-4949-a50f-be21a8f08702",
   "metadata": {},
   "outputs": [
    {
     "name": "stdin",
     "output_type": "stream",
     "text": [
      "Enter a sentence:  sudhanushu kumar\n"
     ]
    },
    {
     "name": "stdout",
     "output_type": "stream",
     "text": [
      "Number of vowels: 6\n"
     ]
    }
   ],
   "source": [
    "#  Get input from the user\n",
    "user = input(\"Enter a sentence: \")\n",
    "\n",
    "# Initialize a variable to count the vowels\n",
    "vowel_count = 0\n",
    "\n",
    "# Step 3: Iterate through each character in the sentence\n",
    "for i in user:\n",
    "    # Convert the character to lowercase to handle both uppercase and lowercase vowels\n",
    "    char_lower = i.lower()\n",
    "\n",
    "    # Check if the character is a vowel (a, e, i, o, u)\n",
    "    if char_lower in \"aeiou\":\n",
    "        # If the character is a vowel, increment the vowel_count variable\n",
    "        vowel_count += 1\n",
    "\n",
    "#  Display the result\n",
    "print(\"Number of vowels:\", vowel_count)"
   ]
  },
  {
   "cell_type": "markdown",
   "id": "1fd4538a-a66c-4c1d-bc58-935ff28ea3b6",
   "metadata": {},
   "source": [
    "3. Given a string, reverse the order of characters using string slicing and print\n",
    "the reversed string."
   ]
  },
  {
   "cell_type": "code",
   "execution_count": 17,
   "id": "ca66bdf1-42e8-4822-a856-15473e178634",
   "metadata": {},
   "outputs": [
    {
     "name": "stdin",
     "output_type": "stream",
     "text": [
      "enter the string:  pwskills\n"
     ]
    },
    {
     "name": "stdout",
     "output_type": "stream",
     "text": [
      "Reversed the order of the string:  sllikswp\n"
     ]
    }
   ],
   "source": [
    "#take the input from the user\n",
    "string=input(\"enter the string: \")\n",
    "\n",
    "#reverse the order of charcters ussing string slicing\n",
    "#syntax: [start:end:step]\n",
    "print(\"Reversed the order of the string: \", string[::-1])\n"
   ]
  },
  {
   "cell_type": "markdown",
   "id": "753fa2f0-8ab5-4f47-b58d-714b1cce2deb",
   "metadata": {},
   "source": [
    "4. Write a program that takes a string as input and checks if it is a palindrome\n",
    "(reads the same forwards and backwards).\n"
   ]
  },
  {
   "cell_type": "code",
   "execution_count": 21,
   "id": "5f3d4ca2-c2f9-4af5-a796-895018add09d",
   "metadata": {},
   "outputs": [
    {
     "name": "stdin",
     "output_type": "stream",
     "text": [
      "Enter a string:  mADaM\n"
     ]
    },
    {
     "name": "stdout",
     "output_type": "stream",
     "text": [
      "the input string is a palindrome\n"
     ]
    }
   ],
   "source": [
    "#get the input from the user\n",
    "input_string= input(\"Enter a string: \")\n",
    "#here we converts input string into upper case\n",
    "input_string=input_string.upper()\n",
    "#reversed the input string using slicing\n",
    "reverse_string=input_string[::1]\n",
    "#compared the input string with its reverse to check for palindrome\n",
    "if(reverse_string == input_string):\n",
    "    print(\"the input string is a palindrome\")\n",
    "else:\n",
    "    print(\"The input string is not a palindrome\")"
   ]
  },
  {
   "cell_type": "markdown",
   "id": "a5013639-dd5d-471f-92b2-e7ad985d9d82",
   "metadata": {},
   "source": [
    "5. Create a program that takes a string as input and removes all the spaces from\n",
    "it. Print the modified string without spaces."
   ]
  },
  {
   "cell_type": "code",
   "execution_count": 23,
   "id": "d0975c7a-edf4-4038-b47c-fbbc61a4c8e4",
   "metadata": {},
   "outputs": [
    {
     "name": "stdin",
     "output_type": "stream",
     "text": [
      "enter the input from the string:  Sudhanushu KUmar\n"
     ]
    },
    {
     "name": "stdout",
     "output_type": "stream",
     "text": [
      "string after removed the all the spaces:  sudhanushukumar\n"
     ]
    }
   ],
   "source": [
    "#get the input from the user\n",
    "user=input(\"enter the input from the string: \")\n",
    "#We remove spaces from the input string using the replace() method and convert it to lowercase using the lower() method\n",
    "string=user.replace(\" \",\"\").lower()\n",
    "#Print the modified string without spaces\n",
    "print(\"string after removed the all the spaces: \", string)"
   ]
  },
  {
   "cell_type": "code",
   "execution_count": null,
   "id": "355a845e-b553-4f57-bad7-4bec1b4eb55f",
   "metadata": {},
   "outputs": [],
   "source": []
  }
 ],
 "metadata": {
  "kernelspec": {
   "display_name": "Python 3 (ipykernel)",
   "language": "python",
   "name": "python3"
  },
  "language_info": {
   "codemirror_mode": {
    "name": "ipython",
    "version": 3
   },
   "file_extension": ".py",
   "mimetype": "text/x-python",
   "name": "python",
   "nbconvert_exporter": "python",
   "pygments_lexer": "ipython3",
   "version": "3.10.8"
  }
 },
 "nbformat": 4,
 "nbformat_minor": 5
}
